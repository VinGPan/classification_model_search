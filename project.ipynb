{
 "cells": [
  {
   "cell_type": "markdown",
   "metadata": {},
   "source": [
    "# Title"
   ]
  },
  {
   "cell_type": "markdown",
   "metadata": {},
   "source": []
  },
  {
   "cell_type": "markdown",
   "metadata": {},
   "source": [
    "## 1.0 Introduction"
   ]
  },
  {
   "cell_type": "markdown",
   "metadata": {},
   "source": []
  },
  {
   "cell_type": "markdown",
   "metadata": {},
   "source": [
    "## 2.0 Data Description"
   ]
  },
  {
   "cell_type": "markdown",
   "metadata": {},
   "source": []
  },
  {
   "cell_type": "markdown",
   "metadata": {},
   "source": [
    "### 2.1 Exploratory Data Analysis"
   ]
  },
  {
   "cell_type": "markdown",
   "metadata": {},
   "source": [
    "Let us begin by loading the data."
   ]
  },
  {
   "cell_type": "code",
   "execution_count": 1,
   "metadata": {},
   "outputs": [
    {
     "name": "stdout",
     "output_type": "stream",
     "text": [
      "Data Set Dimensionality(1599, 12)\n"
     ]
    },
    {
     "data": {
      "text/html": [
       "<div>\n",
       "<style scoped>\n",
       "    .dataframe tbody tr th:only-of-type {\n",
       "        vertical-align: middle;\n",
       "    }\n",
       "\n",
       "    .dataframe tbody tr th {\n",
       "        vertical-align: top;\n",
       "    }\n",
       "\n",
       "    .dataframe thead th {\n",
       "        text-align: right;\n",
       "    }\n",
       "</style>\n",
       "<table border=\"1\" class=\"dataframe\">\n",
       "  <thead>\n",
       "    <tr style=\"text-align: right;\">\n",
       "      <th></th>\n",
       "      <th>fixed acidity</th>\n",
       "      <th>volatile acidity</th>\n",
       "      <th>citric acid</th>\n",
       "      <th>residual sugar</th>\n",
       "      <th>chlorides</th>\n",
       "      <th>free sulfur dioxide</th>\n",
       "      <th>total sulfur dioxide</th>\n",
       "      <th>density</th>\n",
       "      <th>pH</th>\n",
       "      <th>sulphates</th>\n",
       "      <th>alcohol</th>\n",
       "      <th>quality</th>\n",
       "    </tr>\n",
       "  </thead>\n",
       "  <tbody>\n",
       "    <tr>\n",
       "      <th>0</th>\n",
       "      <td>7.4</td>\n",
       "      <td>0.70</td>\n",
       "      <td>0.00</td>\n",
       "      <td>1.9</td>\n",
       "      <td>0.076</td>\n",
       "      <td>11.0</td>\n",
       "      <td>34.0</td>\n",
       "      <td>0.9978</td>\n",
       "      <td>3.51</td>\n",
       "      <td>0.56</td>\n",
       "      <td>9.4</td>\n",
       "      <td>5</td>\n",
       "    </tr>\n",
       "    <tr>\n",
       "      <th>1</th>\n",
       "      <td>7.8</td>\n",
       "      <td>0.88</td>\n",
       "      <td>0.00</td>\n",
       "      <td>2.6</td>\n",
       "      <td>0.098</td>\n",
       "      <td>25.0</td>\n",
       "      <td>67.0</td>\n",
       "      <td>0.9968</td>\n",
       "      <td>3.20</td>\n",
       "      <td>0.68</td>\n",
       "      <td>9.8</td>\n",
       "      <td>5</td>\n",
       "    </tr>\n",
       "    <tr>\n",
       "      <th>2</th>\n",
       "      <td>7.8</td>\n",
       "      <td>0.76</td>\n",
       "      <td>0.04</td>\n",
       "      <td>2.3</td>\n",
       "      <td>0.092</td>\n",
       "      <td>15.0</td>\n",
       "      <td>54.0</td>\n",
       "      <td>0.9970</td>\n",
       "      <td>3.26</td>\n",
       "      <td>0.65</td>\n",
       "      <td>9.8</td>\n",
       "      <td>5</td>\n",
       "    </tr>\n",
       "    <tr>\n",
       "      <th>3</th>\n",
       "      <td>11.2</td>\n",
       "      <td>0.28</td>\n",
       "      <td>0.56</td>\n",
       "      <td>1.9</td>\n",
       "      <td>0.075</td>\n",
       "      <td>17.0</td>\n",
       "      <td>60.0</td>\n",
       "      <td>0.9980</td>\n",
       "      <td>3.16</td>\n",
       "      <td>0.58</td>\n",
       "      <td>9.8</td>\n",
       "      <td>6</td>\n",
       "    </tr>\n",
       "    <tr>\n",
       "      <th>4</th>\n",
       "      <td>7.4</td>\n",
       "      <td>0.70</td>\n",
       "      <td>0.00</td>\n",
       "      <td>1.9</td>\n",
       "      <td>0.076</td>\n",
       "      <td>11.0</td>\n",
       "      <td>34.0</td>\n",
       "      <td>0.9978</td>\n",
       "      <td>3.51</td>\n",
       "      <td>0.56</td>\n",
       "      <td>9.4</td>\n",
       "      <td>5</td>\n",
       "    </tr>\n",
       "  </tbody>\n",
       "</table>\n",
       "</div>"
      ],
      "text/plain": [
       "   fixed acidity  volatile acidity  citric acid  residual sugar  chlorides  \\\n",
       "0            7.4              0.70         0.00             1.9      0.076   \n",
       "1            7.8              0.88         0.00             2.6      0.098   \n",
       "2            7.8              0.76         0.04             2.3      0.092   \n",
       "3           11.2              0.28         0.56             1.9      0.075   \n",
       "4            7.4              0.70         0.00             1.9      0.076   \n",
       "\n",
       "   free sulfur dioxide  total sulfur dioxide  density    pH  sulphates  \\\n",
       "0                 11.0                  34.0   0.9978  3.51       0.56   \n",
       "1                 25.0                  67.0   0.9968  3.20       0.68   \n",
       "2                 15.0                  54.0   0.9970  3.26       0.65   \n",
       "3                 17.0                  60.0   0.9980  3.16       0.58   \n",
       "4                 11.0                  34.0   0.9978  3.51       0.56   \n",
       "\n",
       "   alcohol  quality  \n",
       "0      9.4        5  \n",
       "1      9.8        5  \n",
       "2      9.8        5  \n",
       "3      9.8        6  \n",
       "4      9.4        5  "
      ]
     },
     "execution_count": 1,
     "metadata": {},
     "output_type": "execute_result"
    }
   ],
   "source": [
    "import matplotlib.pyplot as plt\n",
    "import pandas as pd\n",
    "\n",
    "df = pd.read_csv('data\\winequality_red.csv')\n",
    "print(\"Data Set Dimensionality\" + str(df.shape))\n",
    "df.head(5)"
   ]
  },
  {
   "cell_type": "code",
   "execution_count": 2,
   "metadata": {},
   "outputs": [
    {
     "data": {
      "text/plain": [
       "fixed acidity           0\n",
       "volatile acidity        0\n",
       "citric acid             0\n",
       "residual sugar          0\n",
       "chlorides               0\n",
       "free sulfur dioxide     0\n",
       "total sulfur dioxide    0\n",
       "density                 0\n",
       "pH                      0\n",
       "sulphates               0\n",
       "alcohol                 0\n",
       "quality                 0\n",
       "dtype: int64"
      ]
     },
     "execution_count": 2,
     "metadata": {},
     "output_type": "execute_result"
    }
   ],
   "source": [
    "df.isna().sum()"
   ]
  },
  {
   "cell_type": "markdown",
   "metadata": {},
   "source": [
    "There are no NaNs in the dataset"
   ]
  },
  {
   "cell_type": "code",
   "execution_count": 3,
   "metadata": {},
   "outputs": [
    {
     "data": {
      "image/png": "[encoded data removed]",
      "text/plain": [
       "<Figure size 432x288 with 1 Axes>"
      ]
     },
     "metadata": {
      "needs_background": "light"
     },
     "output_type": "display_data"
    }
   ],
   "source": [
    "df[\"quality\"].plot.hist()\n",
    "plt.xlabel(\"quality\")\n",
    "plt.show()"
   ]
  },
  {
   "cell_type": "markdown",
   "metadata": {},
   "source": [
    "Our target variable 'normality' can take values from 0 till 5. Luckily, we have highly balanced dataset. "
   ]
  },
  {
   "cell_type": "code",
   "execution_count": 4,
   "metadata": {},
   "outputs": [
    {
     "data": {
      "text/html": [
       "<div>\n",
       "<style scoped>\n",
       "    .dataframe tbody tr th:only-of-type {\n",
       "        vertical-align: middle;\n",
       "    }\n",
       "\n",
       "    .dataframe tbody tr th {\n",
       "        vertical-align: top;\n",
       "    }\n",
       "\n",
       "    .dataframe thead th {\n",
       "        text-align: right;\n",
       "    }\n",
       "</style>\n",
       "<table border=\"1\" class=\"dataframe\">\n",
       "  <thead>\n",
       "    <tr style=\"text-align: right;\">\n",
       "      <th></th>\n",
       "      <th>fixed acidity</th>\n",
       "      <th>volatile acidity</th>\n",
       "      <th>citric acid</th>\n",
       "      <th>residual sugar</th>\n",
       "      <th>chlorides</th>\n",
       "      <th>free sulfur dioxide</th>\n",
       "      <th>total sulfur dioxide</th>\n",
       "      <th>density</th>\n",
       "      <th>pH</th>\n",
       "      <th>sulphates</th>\n",
       "      <th>alcohol</th>\n",
       "      <th>quality</th>\n",
       "    </tr>\n",
       "  </thead>\n",
       "  <tbody>\n",
       "    <tr>\n",
       "      <th>count</th>\n",
       "      <td>1599.000000</td>\n",
       "      <td>1599.000000</td>\n",
       "      <td>1599.000000</td>\n",
       "      <td>1599.000000</td>\n",
       "      <td>1599.000000</td>\n",
       "      <td>1599.000000</td>\n",
       "      <td>1599.000000</td>\n",
       "      <td>1599.000000</td>\n",
       "      <td>1599.000000</td>\n",
       "      <td>1599.000000</td>\n",
       "      <td>1599.000000</td>\n",
       "      <td>1599.000000</td>\n",
       "    </tr>\n",
       "    <tr>\n",
       "      <th>mean</th>\n",
       "      <td>8.319637</td>\n",
       "      <td>0.527821</td>\n",
       "      <td>0.270976</td>\n",
       "      <td>2.538806</td>\n",
       "      <td>0.087467</td>\n",
       "      <td>15.874922</td>\n",
       "      <td>46.467792</td>\n",
       "      <td>0.996747</td>\n",
       "      <td>3.311113</td>\n",
       "      <td>0.658149</td>\n",
       "      <td>10.422983</td>\n",
       "      <td>5.636023</td>\n",
       "    </tr>\n",
       "    <tr>\n",
       "      <th>std</th>\n",
       "      <td>1.741096</td>\n",
       "      <td>0.179060</td>\n",
       "      <td>0.194801</td>\n",
       "      <td>1.409928</td>\n",
       "      <td>0.047065</td>\n",
       "      <td>10.460157</td>\n",
       "      <td>32.895324</td>\n",
       "      <td>0.001887</td>\n",
       "      <td>0.154386</td>\n",
       "      <td>0.169507</td>\n",
       "      <td>1.065668</td>\n",
       "      <td>0.807569</td>\n",
       "    </tr>\n",
       "    <tr>\n",
       "      <th>min</th>\n",
       "      <td>4.600000</td>\n",
       "      <td>0.120000</td>\n",
       "      <td>0.000000</td>\n",
       "      <td>0.900000</td>\n",
       "      <td>0.012000</td>\n",
       "      <td>1.000000</td>\n",
       "      <td>6.000000</td>\n",
       "      <td>0.990070</td>\n",
       "      <td>2.740000</td>\n",
       "      <td>0.330000</td>\n",
       "      <td>8.400000</td>\n",
       "      <td>3.000000</td>\n",
       "    </tr>\n",
       "    <tr>\n",
       "      <th>25%</th>\n",
       "      <td>7.100000</td>\n",
       "      <td>0.390000</td>\n",
       "      <td>0.090000</td>\n",
       "      <td>1.900000</td>\n",
       "      <td>0.070000</td>\n",
       "      <td>7.000000</td>\n",
       "      <td>22.000000</td>\n",
       "      <td>0.995600</td>\n",
       "      <td>3.210000</td>\n",
       "      <td>0.550000</td>\n",
       "      <td>9.500000</td>\n",
       "      <td>5.000000</td>\n",
       "    </tr>\n",
       "    <tr>\n",
       "      <th>50%</th>\n",
       "      <td>7.900000</td>\n",
       "      <td>0.520000</td>\n",
       "      <td>0.260000</td>\n",
       "      <td>2.200000</td>\n",
       "      <td>0.079000</td>\n",
       "      <td>14.000000</td>\n",
       "      <td>38.000000</td>\n",
       "      <td>0.996750</td>\n",
       "      <td>3.310000</td>\n",
       "      <td>0.620000</td>\n",
       "      <td>10.200000</td>\n",
       "      <td>6.000000</td>\n",
       "    </tr>\n",
       "    <tr>\n",
       "      <th>75%</th>\n",
       "      <td>9.200000</td>\n",
       "      <td>0.640000</td>\n",
       "      <td>0.420000</td>\n",
       "      <td>2.600000</td>\n",
       "      <td>0.090000</td>\n",
       "      <td>21.000000</td>\n",
       "      <td>62.000000</td>\n",
       "      <td>0.997835</td>\n",
       "      <td>3.400000</td>\n",
       "      <td>0.730000</td>\n",
       "      <td>11.100000</td>\n",
       "      <td>6.000000</td>\n",
       "    </tr>\n",
       "    <tr>\n",
       "      <th>max</th>\n",
       "      <td>15.900000</td>\n",
       "      <td>1.580000</td>\n",
       "      <td>1.000000</td>\n",
       "      <td>15.500000</td>\n",
       "      <td>0.611000</td>\n",
       "      <td>72.000000</td>\n",
       "      <td>289.000000</td>\n",
       "      <td>1.003690</td>\n",
       "      <td>4.010000</td>\n",
       "      <td>2.000000</td>\n",
       "      <td>14.900000</td>\n",
       "      <td>8.000000</td>\n",
       "    </tr>\n",
       "  </tbody>\n",
       "</table>\n",
       "</div>"
      ],
      "text/plain": [
       "       fixed acidity  volatile acidity  citric acid  residual sugar  \\\n",
       "count    1599.000000       1599.000000  1599.000000     1599.000000   \n",
       "mean        8.319637          0.527821     0.270976        2.538806   \n",
       "std         1.741096          0.179060     0.194801        1.409928   \n",
       "min         4.600000          0.120000     0.000000        0.900000   \n",
       "25%         7.100000          0.390000     0.090000        1.900000   \n",
       "50%         7.900000          0.520000     0.260000        2.200000   \n",
       "75%         9.200000          0.640000     0.420000        2.600000   \n",
       "max        15.900000          1.580000     1.000000       15.500000   \n",
       "\n",
       "         chlorides  free sulfur dioxide  total sulfur dioxide      density  \\\n",
       "count  1599.000000          1599.000000           1599.000000  1599.000000   \n",
       "mean      0.087467            15.874922             46.467792     0.996747   \n",
       "std       0.047065            10.460157             32.895324     0.001887   \n",
       "min       0.012000             1.000000              6.000000     0.990070   \n",
       "25%       0.070000             7.000000             22.000000     0.995600   \n",
       "50%       0.079000            14.000000             38.000000     0.996750   \n",
       "75%       0.090000            21.000000             62.000000     0.997835   \n",
       "max       0.611000            72.000000            289.000000     1.003690   \n",
       "\n",
       "                pH    sulphates      alcohol      quality  \n",
       "count  1599.000000  1599.000000  1599.000000  1599.000000  \n",
       "mean      3.311113     0.658149    10.422983     5.636023  \n",
       "std       0.154386     0.169507     1.065668     0.807569  \n",
       "min       2.740000     0.330000     8.400000     3.000000  \n",
       "25%       3.210000     0.550000     9.500000     5.000000  \n",
       "50%       3.310000     0.620000    10.200000     6.000000  \n",
       "75%       3.400000     0.730000    11.100000     6.000000  \n",
       "max       4.010000     2.000000    14.900000     8.000000  "
      ]
     },
     "execution_count": 4,
     "metadata": {},
     "output_type": "execute_result"
    }
   ],
   "source": [
    "df.describe()"
   ]
  },
  {
   "cell_type": "code",
   "execution_count": 5,
   "metadata": {},
   "outputs": [
    {
     "data": {
      "text/plain": [
       "<matplotlib.axes._subplots.AxesSubplot at 0x258301fef60>"
      ]
     },
     "execution_count": 5,
     "metadata": {},
     "output_type": "execute_result"
    },
    {
     "data": {
      "image/png": "[encoded data removed]",
      "text/plain": [
       "<Figure size 1008x216 with 5 Axes>"
      ]
     },
     "metadata": {
      "needs_background": "light"
     },
     "output_type": "display_data"
    }
   ],
   "source": [
    "fig1, axs1 = plt.subplots(1, 5, figsize=(14, 3))\n",
    "df[\"fixed acidity\"].plot.box(ax=axs1[0])\n",
    "df[\"volatile acidity\"].plot.box(ax=axs1[1])\n",
    "df[\"citric acid\"].plot.box(ax=axs1[2])\n",
    "df[\"chlorides\"].plot.box(ax=axs1[3])\n",
    "df[\"pH\"].plot.box(ax=axs1[4])"
   ]
  },
  {
   "cell_type": "markdown",
   "metadata": {},
   "source": [
    "From the box plot above we see that there are some outliers. In the below simple scheme, we identify and drop them."
   ]
  },
  {
   "cell_type": "code",
   "execution_count": 7,
   "metadata": {},
   "outputs": [],
   "source": [
    "# df.drop(df['frame.len'].idxmax(), inplace=True)\n",
    "# df.drop(df['ip.len'].idxmax(), inplace=True)\n",
    "# df.drop(df['tcp.len'].idxmax(), inplace=True)\n",
    "# df.drop(df['Value'].idxmax(), inplace=True)\n",
    "# df = df[df['ip.proto'] < 10]"
   ]
  },
  {
   "cell_type": "code",
   "execution_count": 6,
   "metadata": {},
   "outputs": [
    {
     "data": {
      "image/png": "[encoded data removed]",
      "text/plain": [
       "<Figure size 432x288 with 2 Axes>"
      ]
     },
     "metadata": {
      "needs_background": "light"
     },
     "output_type": "display_data"
    }
   ],
   "source": [
    "import seaborn as sns\n",
    "dfcorr=df[['fixed acidity', 'volatile acidity', 'citric acid', 'chlorides', 'pH', 'quality']].corr()\n",
    "sns.heatmap(dfcorr,annot=True,cmap='pink')\n",
    "plt.show()"
   ]
  },
  {
   "cell_type": "markdown",
   "metadata": {},
   "source": [
    "From the correlation plot above we can notice that columns 'frame.len', 'ip.proto', 'ip.len', 'tcp.len' have reasonable correlation with the target variable. There appears to be very high collinearity between columns 'ip.len' and 'tcp.len'.  "
   ]
  },
  {
   "cell_type": "markdown",
   "metadata": {},
   "source": [
    "## 3.0 Model Search Framework"
   ]
  },
  {
   "cell_type": "markdown",
   "metadata": {},
   "source": [
    "We have developed a model search framework for this project. Model search framework is a collection of model pipelines which is generated in combinatorial fashion. Given a dataset (X, y) our framework\n",
    "validates upto 120 different model pipelines and systematically stores the results. Models to be generated can be controlled via experiment yml file.\n",
    "\n",
    "Our objective here is to make use of as many ideas and concepts relevant to classification model development as possible for this project. Hence our framework generates several pipelines as combinations of the following:\n",
    "\n",
    "- Preprocessing\n",
    "    - Min-Max transform\n",
    "    - Standard normal transform\n",
    "    - No Preprocessing\n",
    "- Dimensionality Reduction\n",
    "    - PCA\n",
    "    - Kernel PCA\n",
    "    - Locally Linear Embedding    \n",
    "    - No Dimensionality Reduction\n",
    "- Classifiers\n",
    "    - Logistic Regression\n",
    "    - Naive Bayes\n",
    "    - kNN\n",
    "    - Random Forest\n",
    "    - SVC\n",
    "    - XGBoost \n",
    "    - AdaBoost\n",
    "    - Gradient Boosting\n",
    "    \n",
    "Further, to decide on hyperparameters the framework carries out Grid Search with cross validation. Following hyperparameters are tuned:\n",
    "- Dimensionality Reduction\n",
    "    - PCA \n",
    "        - n_components\n",
    "    - Kernel PCA \n",
    "        - n_components\n",
    "    - Locally Linear Embedding\n",
    "        - n_components\n",
    "        - n_neighbors     \n",
    "- Classifiers\n",
    "    - Logistic Regression\n",
    "        - penalty\n",
    "        - C\n",
    "        - class_weight\n",
    "    - kNN\n",
    "        - n_neighbors\n",
    "        - weights\n",
    "        - metric\n",
    "    - Random Forest\n",
    "        - max_depth\n",
    "        - min_samples_split\n",
    "        - n_estimators\n",
    "    - XGBoost\n",
    "        - learning_rate\n",
    "        - n_estimators\n",
    "    - AdaBoost\n",
    "        - n_estimators\n",
    "    - Gradient Boosting\n",
    "        - learning_rate, n_estimators\n",
    "\n",
    "The logic of the framework can be found in our github at https://github.com/VinGPan/Machine_Learning_3252_project/blob/master/src/s04_build_models.py"
   ]
  },
  {
   "cell_type": "markdown",
   "metadata": {},
   "source": [
    "## 4.0 Feature Engineering"
   ]
  },
  {
   "cell_type": "markdown",
   "metadata": {},
   "source": []
  },
  {
   "cell_type": "markdown",
   "metadata": {},
   "source": [
    "## 5.0 Results"
   ]
  },
  {
   "cell_type": "markdown",
   "metadata": {},
   "source": [
    "### 5.1 Experiment 1 - "
   ]
  },
  {
   "cell_type": "markdown",
   "metadata": {},
   "source": [
    "Models build by our Model Search Framework is controlled via yml file. Below is the content of yml file for this experiment"
   ]
  },
  {
   "cell_type": "code",
   "execution_count": null,
   "metadata": {},
   "outputs": [],
   "source": [
    "''' Content of experiments/exp_01.yml\n",
    "experiment:\n",
    "    name: 'exp1'\n",
    "data:\n",
    "    history: 0\n",
    "    lead: 0\n",
    "    cols: ['frame.len', 'ip.proto', 'ip.len', 'tcp.len', 'Value']\n",
    "    target: 'normality'\n",
    "models:\n",
    "    classifiers: ['logistic', 'naive_bayes', 'knn', 'random_forest', 'xgboost', 'adaboost', 'gradboost', 'svc']\n",
    "    preprocs: ['none', 'min_max', 'standard_scalar']\n",
    "    transforms : ['none', 'pca'] \n",
    "'''"
   ]
  },
  {
   "cell_type": "code",
   "execution_count": 8,
   "metadata": {},
   "outputs": [
    {
     "name": "stdout",
     "output_type": "stream",
     "text": [
      "Top 3 classifiers\n"
     ]
    },
    {
     "data": {
      "text/html": [
       "<div>\n",
       "<style scoped>\n",
       "    .dataframe tbody tr th:only-of-type {\n",
       "        vertical-align: middle;\n",
       "    }\n",
       "\n",
       "    .dataframe tbody tr th {\n",
       "        vertical-align: top;\n",
       "    }\n",
       "\n",
       "    .dataframe thead th {\n",
       "        text-align: right;\n",
       "    }\n",
       "</style>\n",
       "<table border=\"1\" class=\"dataframe\">\n",
       "  <thead>\n",
       "    <tr style=\"text-align: right;\">\n",
       "      <th></th>\n",
       "      <th>classifier</th>\n",
       "      <th>preprocess</th>\n",
       "      <th>transform</th>\n",
       "      <th>accuracy</th>\n",
       "      <th>balanced_accuracy</th>\n",
       "      <th>f1_score</th>\n",
       "    </tr>\n",
       "  </thead>\n",
       "  <tbody>\n",
       "    <tr>\n",
       "      <th>0</th>\n",
       "      <td>xgboost</td>\n",
       "      <td>standard_scalar</td>\n",
       "      <td>pca</td>\n",
       "      <td>71.25</td>\n",
       "      <td>34.52834986015764</td>\n",
       "      <td>0.715205385951849</td>\n",
       "    </tr>\n",
       "    <tr>\n",
       "      <th>1</th>\n",
       "      <td>random_forest</td>\n",
       "      <td>standard_scalar</td>\n",
       "      <td>none</td>\n",
       "      <td>71.25</td>\n",
       "      <td>32.62140859394864</td>\n",
       "      <td>0.7153293377533343</td>\n",
       "    </tr>\n",
       "    <tr>\n",
       "      <th>2</th>\n",
       "      <td>xgboost</td>\n",
       "      <td>none</td>\n",
       "      <td>none</td>\n",
       "      <td>67.5</td>\n",
       "      <td>31.807780320366135</td>\n",
       "      <td>0.6842437374082945</td>\n",
       "    </tr>\n",
       "  </tbody>\n",
       "</table>\n",
       "</div>"
      ],
      "text/plain": [
       "      classifier       preprocess transform accuracy   balanced_accuracy  \\\n",
       "0        xgboost  standard_scalar       pca    71.25   34.52834986015764   \n",
       "1  random_forest  standard_scalar      none    71.25   32.62140859394864   \n",
       "2        xgboost             none      none     67.5  31.807780320366135   \n",
       "\n",
       "             f1_score  \n",
       "0   0.715205385951849  \n",
       "1  0.7153293377533343  \n",
       "2  0.6842437374082945  "
      ]
     },
     "execution_count": 8,
     "metadata": {},
     "output_type": "execute_result"
    }
   ],
   "source": [
    "from src.model.utils import read_args, read_yml, makedir\n",
    "from src.model.data_cleanup import cleanup\n",
    "from src.model.compute_features import compute_features\n",
    "from src.model.split import split\n",
    "from src.model.build_models import build_models\n",
    "\n",
    "exp_yml_path = 'experiments/exp_01.yml'\n",
    "configs = read_yml(exp_yml_path)\n",
    "makedir(\"output/\" + configs['experiment_name'])\n",
    "\n",
    "cleanup(configs)\n",
    "compute_features(configs)\n",
    "split(configs)\n",
    "exp1_scores, exp1_top_scores = build_models(configs)\n",
    "\n",
    "print(\"Top 3 classifiers\")\n",
    "exp1_top_scores"
   ]
  },
  {
   "cell_type": "markdown",
   "metadata": {},
   "source": [
    "### 5.2 Experiment 2 - "
   ]
  },
  {
   "cell_type": "markdown",
   "metadata": {},
   "source": [
    "Below is the content of yml file for this experiment"
   ]
  },
  {
   "cell_type": "code",
   "execution_count": null,
   "metadata": {},
   "outputs": [],
   "source": [
    "''' Content of experiments/exp_02.yml\n",
    "experiment:\n",
    "    name: 'exp2'\n",
    "data:\n",
    "    history: 5\n",
    "    lead: 10\n",
    "    cols: ['frame.len', 'ip.proto', 'ip.len', 'tcp.len', 'Value']\n",
    "    target: 'normality'\n",
    "models:\n",
    "    classifiers: ['logistic', 'naive_bayes', 'knn', 'random_forest', 'xgboost', 'adaboost', 'gradboost', 'svc']\n",
    "    preprocs: ['none', 'min_max', 'standard_scalar']\n",
    "    transforms : ['none', 'pca']\n",
    "'''"
   ]
  },
  {
   "cell_type": "code",
   "execution_count": 9,
   "metadata": {},
   "outputs": [],
   "source": [
    "# exp_yml_path = 'experiments/exp_02.yml'\n",
    "# configs = read_yml(exp_yml_path)\n",
    "# makedir(\"output/\" + configs['experiment_name'])\n",
    "\n",
    "# cleanup(configs)\n",
    "# compute_features(configs)\n",
    "# split(configs)\n",
    "# exp1_scores, exp1_top_scores = build_models(configs)\n",
    "\n",
    "# print(\"Top 3 classifiers\")\n",
    "# exp1_top_scores"
   ]
  },
  {
   "cell_type": "markdown",
   "metadata": {},
   "source": [
    "### 5.6 Comparison"
   ]
  },
  {
   "cell_type": "markdown",
   "metadata": {},
   "source": [
    "Above figure provides graphical summary of accuracies over 5 experiments. "
   ]
  },
  {
   "cell_type": "markdown",
   "metadata": {},
   "source": [
    "### 5.7 Final Model Selection and Test Results"
   ]
  },
  {
   "cell_type": "code",
   "execution_count": 10,
   "metadata": {},
   "outputs": [],
   "source": [
    "from sklearn.metrics import confusion_matrix\n",
    "def plot_confusion_matrix(\n",
    "    y_true, y_pred, classes, normalize=False, title=None, cmap=plt.cm.Blues, return_cm=False,\n",
    "):\n",
    "    \"\"\"\n",
    "    This function prints and plots the confusion matrix.\n",
    "    Normalization can be applied by setting `normalize=True`.\n",
    "    \"\"\"\n",
    "    np.set_printoptions(precision=2)\n",
    "\n",
    "    if not title:\n",
    "        title = \"Confusion matrix\"\n",
    "\n",
    "    # Compute confusion matrix\n",
    "\n",
    "    cm = confusion_matrix(y_true, y_pred, labels=classes)\n",
    "\n",
    "\n",
    "    # Only use the labels that appear in the data\n",
    "    # classes = classes[unique_labels(y_true, y_pred)]\n",
    "    if normalize:\n",
    "        cm = cm.astype(\"float\") / cm.sum(axis=1)[:, np.newaxis]\n",
    "        cm = np.nan_to_num(cm)\n",
    "        print(\"Normalized confusion matrix\")\n",
    "    if return_cm:\n",
    "        return cm\n",
    "\n",
    "    fig, ax = plt.subplots()\n",
    "    im = ax.imshow(cm, interpolation=\"nearest\", cmap=cmap)\n",
    "    ax.figure.colorbar(im, ax=ax)\n",
    "    # We want to show all ticks...\n",
    "    ax.set(\n",
    "        xticks=np.arange(cm.shape[1]),\n",
    "        yticks=np.arange(cm.shape[0]),\n",
    "        # ... and label them with the respective list entries\n",
    "        xticklabels=classes,\n",
    "        yticklabels=classes,\n",
    "        title=title,\n",
    "        ylabel=\"True label\",\n",
    "        xlabel=\"Predicted label\",\n",
    "    )\n",
    "\n",
    "    # Rotate the tick labels and set their alignment.\n",
    "    plt.setp(ax.get_xticklabels(), rotation=45, ha=\"right\", rotation_mode=\"anchor\")\n",
    "\n",
    "    # Loop over data dimensions and create text annotations.\n",
    "    fmt = \".2f\" if normalize else \"d\"\n",
    "    thresh = cm.max() / 2.0\n",
    "    for i in range(cm.shape[0]):\n",
    "        for j in range(cm.shape[1]):\n",
    "            ax.text(\n",
    "                j,\n",
    "                i,\n",
    "                format(cm[i, j], fmt),\n",
    "                ha=\"center\",\n",
    "                va=\"center\",\n",
    "                color=\"white\" if cm[i, j] > thresh else \"black\",\n",
    "            )\n",
    "    fig.tight_layout()\n",
    "    return ax"
   ]
  },
  {
   "cell_type": "code",
   "execution_count": 29,
   "metadata": {},
   "outputs": [
    {
     "name": "stdout",
     "output_type": "stream",
     "text": [
      "Test accuracy = 68.1%, balanced accuracy = 38.3%, F1 = 0.69\n"
     ]
    },
    {
     "data": {
      "image/png": "[encoded data removed]",
      "text/plain": [
       "<Figure size 432x288 with 2 Axes>"
      ]
     },
     "metadata": {
      "needs_background": "light"
     },
     "output_type": "display_data"
    }
   ],
   "source": [
    "from sklearn.externals import joblib\n",
    "from sklearn.metrics import accuracy_score, balanced_accuracy_score, f1_score\n",
    "import numpy as np\n",
    "from src.model.deploy import prepare_test_data\n",
    "\n",
    "\n",
    "exp_yml_name = 'experiments/exp_01.yml'\n",
    "X_test, y_test = prepare_test_data(exp_yml_name)\n",
    "\n",
    "model_path = 'output/exp1/random_forest_none_none.pkl'\n",
    "\n",
    "clf = joblib.load(model_path)\n",
    "test_preds = clf.predict(X_test)\n",
    "accuracy = round(accuracy_score(y_test, test_preds) * 100, 1)\n",
    "bal_accuracy = round(balanced_accuracy_score(y_test, test_preds) * 100, 1)\n",
    "f1 = round(f1_score(y_test, test_preds, average='weighted', labels=np.unique(test_preds)), 2)\n",
    "res_str = ('Test accuracy = ' + str(accuracy) + '%, balanced accuracy = ' + str(bal_accuracy) \n",
    "           +'%, F1 = ' + str(f1))\n",
    "print(res_str)\n",
    "\n",
    "disp = plot_confusion_matrix(y_test, test_preds, classes=np.sort(np.unique(test_preds)))"
   ]
  },
  {
   "cell_type": "code",
   "execution_count": 30,
   "metadata": {},
   "outputs": [
    {
     "name": "stdout",
     "output_type": "stream",
     "text": [
      "              precision    recall  f1-score   support\n",
      "\n",
      "           5       0.77      0.80      0.79        69\n",
      "           6       0.57      0.75      0.65        59\n",
      "           7       0.83      0.37      0.51        27\n",
      "\n",
      "   micro avg       0.68      0.70      0.69       155\n",
      "   macro avg       0.73      0.64      0.65       155\n",
      "weighted avg       0.71      0.70      0.69       155\n",
      "\n"
     ]
    }
   ],
   "source": [
    "from sklearn.metrics import classification_report\n",
    "print(classification_report(y_test[test_preds != 3], test_preds[test_preds != 3], np.sort(np.unique(test_preds))))"
   ]
  },
  {
   "cell_type": "markdown",
   "metadata": {},
   "source": [
    "# Appendix"
   ]
  },
  {
   "cell_type": "markdown",
   "metadata": {},
   "source": [
    "## A. Experiment 1 Model Scores"
   ]
  },
  {
   "cell_type": "markdown",
   "metadata": {},
   "source": [
    "### A.1 Logistic Regression Results "
   ]
  },
  {
   "cell_type": "code",
   "execution_count": 20,
   "metadata": {},
   "outputs": [
    {
     "data": {
      "text/html": [
       "<div>\n",
       "<style scoped>\n",
       "    .dataframe tbody tr th:only-of-type {\n",
       "        vertical-align: middle;\n",
       "    }\n",
       "\n",
       "    .dataframe tbody tr th {\n",
       "        vertical-align: top;\n",
       "    }\n",
       "\n",
       "    .dataframe thead th {\n",
       "        text-align: right;\n",
       "    }\n",
       "</style>\n",
       "<table border=\"1\" class=\"dataframe\">\n",
       "  <thead>\n",
       "    <tr style=\"text-align: right;\">\n",
       "      <th></th>\n",
       "      <th>classifier</th>\n",
       "      <th>preprocess</th>\n",
       "      <th>transform</th>\n",
       "      <th>accuracy</th>\n",
       "      <th>balanced_accuracy</th>\n",
       "      <th>f1_score</th>\n",
       "    </tr>\n",
       "  </thead>\n",
       "  <tbody>\n",
       "    <tr>\n",
       "      <th>32</th>\n",
       "      <td>logistic</td>\n",
       "      <td>min_max</td>\n",
       "      <td>kpca</td>\n",
       "      <td>42.5</td>\n",
       "      <td>17.696414950419527</td>\n",
       "      <td>0.38429290867020555</td>\n",
       "    </tr>\n",
       "    <tr>\n",
       "      <th>18</th>\n",
       "      <td>logistic</td>\n",
       "      <td>min_max</td>\n",
       "      <td>none</td>\n",
       "      <td>52.5</td>\n",
       "      <td>26.01067887109077</td>\n",
       "      <td>0.5487398018648018</td>\n",
       "    </tr>\n",
       "    <tr>\n",
       "      <th>20</th>\n",
       "      <td>logistic</td>\n",
       "      <td>min_max</td>\n",
       "      <td>pca</td>\n",
       "      <td>51.87500000000001</td>\n",
       "      <td>25.133485888634628</td>\n",
       "      <td>0.5477775621118012</td>\n",
       "    </tr>\n",
       "    <tr>\n",
       "      <th>35</th>\n",
       "      <td>logistic</td>\n",
       "      <td>none</td>\n",
       "      <td>kpca</td>\n",
       "      <td>32.5</td>\n",
       "      <td>12.560386473429952</td>\n",
       "      <td>0.26039039039039036</td>\n",
       "    </tr>\n",
       "    <tr>\n",
       "      <th>22</th>\n",
       "      <td>logistic</td>\n",
       "      <td>none</td>\n",
       "      <td>none</td>\n",
       "      <td>51.87500000000001</td>\n",
       "      <td>24.497838799898297</td>\n",
       "      <td>0.5465272902646668</td>\n",
       "    </tr>\n",
       "    <tr>\n",
       "      <th>21</th>\n",
       "      <td>logistic</td>\n",
       "      <td>none</td>\n",
       "      <td>pca</td>\n",
       "      <td>53.125</td>\n",
       "      <td>24.980930587337912</td>\n",
       "      <td>0.5590209471766848</td>\n",
       "    </tr>\n",
       "    <tr>\n",
       "      <th>15</th>\n",
       "      <td>logistic</td>\n",
       "      <td>standard_scalar</td>\n",
       "      <td>kpca</td>\n",
       "      <td>48.125</td>\n",
       "      <td>26.862445969997456</td>\n",
       "      <td>0.4777844199514291</td>\n",
       "    </tr>\n",
       "    <tr>\n",
       "      <th>16</th>\n",
       "      <td>logistic</td>\n",
       "      <td>standard_scalar</td>\n",
       "      <td>none</td>\n",
       "      <td>52.5</td>\n",
       "      <td>26.6463259598271</td>\n",
       "      <td>0.5503714470284238</td>\n",
       "    </tr>\n",
       "    <tr>\n",
       "      <th>13</th>\n",
       "      <td>logistic</td>\n",
       "      <td>standard_scalar</td>\n",
       "      <td>pca</td>\n",
       "      <td>51.87500000000001</td>\n",
       "      <td>27.67607424357996</td>\n",
       "      <td>0.5291987211303024</td>\n",
       "    </tr>\n",
       "  </tbody>\n",
       "</table>\n",
       "</div>"
      ],
      "text/plain": [
       "   classifier       preprocess transform           accuracy  \\\n",
       "32   logistic          min_max      kpca               42.5   \n",
       "18   logistic          min_max      none               52.5   \n",
       "20   logistic          min_max       pca  51.87500000000001   \n",
       "35   logistic             none      kpca               32.5   \n",
       "22   logistic             none      none  51.87500000000001   \n",
       "21   logistic             none       pca             53.125   \n",
       "15   logistic  standard_scalar      kpca             48.125   \n",
       "16   logistic  standard_scalar      none               52.5   \n",
       "13   logistic  standard_scalar       pca  51.87500000000001   \n",
       "\n",
       "     balanced_accuracy             f1_score  \n",
       "32  17.696414950419527  0.38429290867020555  \n",
       "18   26.01067887109077   0.5487398018648018  \n",
       "20  25.133485888634628   0.5477775621118012  \n",
       "35  12.560386473429952  0.26039039039039036  \n",
       "22  24.497838799898297   0.5465272902646668  \n",
       "21  24.980930587337912   0.5590209471766848  \n",
       "15  26.862445969997456   0.4777844199514291  \n",
       "16    26.6463259598271   0.5503714470284238  \n",
       "13   27.67607424357996   0.5291987211303024  "
      ]
     },
     "execution_count": 20,
     "metadata": {},
     "output_type": "execute_result"
    }
   ],
   "source": [
    "exp1_scores[exp1_scores.classifier == 'logistic'].sort_values(by=['preprocess', 'transform'])"
   ]
  },
  {
   "cell_type": "markdown",
   "metadata": {},
   "source": [
    "### A.2 Naive Bayes Results "
   ]
  },
  {
   "cell_type": "code",
   "execution_count": 21,
   "metadata": {},
   "outputs": [
    {
     "data": {
      "text/html": [
       "<div>\n",
       "<style scoped>\n",
       "    .dataframe tbody tr th:only-of-type {\n",
       "        vertical-align: middle;\n",
       "    }\n",
       "\n",
       "    .dataframe tbody tr th {\n",
       "        vertical-align: top;\n",
       "    }\n",
       "\n",
       "    .dataframe thead th {\n",
       "        text-align: right;\n",
       "    }\n",
       "</style>\n",
       "<table border=\"1\" class=\"dataframe\">\n",
       "  <thead>\n",
       "    <tr style=\"text-align: right;\">\n",
       "      <th></th>\n",
       "      <th>classifier</th>\n",
       "      <th>preprocess</th>\n",
       "      <th>transform</th>\n",
       "      <th>accuracy</th>\n",
       "      <th>balanced_accuracy</th>\n",
       "      <th>f1_score</th>\n",
       "    </tr>\n",
       "  </thead>\n",
       "  <tbody>\n",
       "  </tbody>\n",
       "</table>\n",
       "</div>"
      ],
      "text/plain": [
       "Empty DataFrame\n",
       "Columns: [classifier, preprocess, transform, accuracy, balanced_accuracy, f1_score]\n",
       "Index: []"
      ]
     },
     "execution_count": 21,
     "metadata": {},
     "output_type": "execute_result"
    }
   ],
   "source": [
    "# exp1_scores[exp1_scores.classifier == 'naive_bayes'].sort_values(by=['preprocess', 'transform'])"
   ]
  },
  {
   "cell_type": "markdown",
   "metadata": {},
   "source": [
    "### A.3 KNN Results"
   ]
  },
  {
   "cell_type": "code",
   "execution_count": 23,
   "metadata": {},
   "outputs": [],
   "source": [
    "# exp1_scores[exp1_scores.classifier == 'knn'].sort_values(by=['preprocess', 'transform'])"
   ]
  },
  {
   "cell_type": "markdown",
   "metadata": {},
   "source": [
    "### A.4 Random Forest Results"
   ]
  },
  {
   "cell_type": "code",
   "execution_count": 24,
   "metadata": {},
   "outputs": [
    {
     "data": {
      "text/html": [
       "<div>\n",
       "<style scoped>\n",
       "    .dataframe tbody tr th:only-of-type {\n",
       "        vertical-align: middle;\n",
       "    }\n",
       "\n",
       "    .dataframe tbody tr th {\n",
       "        vertical-align: top;\n",
       "    }\n",
       "\n",
       "    .dataframe thead th {\n",
       "        text-align: right;\n",
       "    }\n",
       "</style>\n",
       "<table border=\"1\" class=\"dataframe\">\n",
       "  <thead>\n",
       "    <tr style=\"text-align: right;\">\n",
       "      <th></th>\n",
       "      <th>classifier</th>\n",
       "      <th>preprocess</th>\n",
       "      <th>transform</th>\n",
       "      <th>accuracy</th>\n",
       "      <th>balanced_accuracy</th>\n",
       "      <th>f1_score</th>\n",
       "    </tr>\n",
       "  </thead>\n",
       "  <tbody>\n",
       "    <tr>\n",
       "      <th>12</th>\n",
       "      <td>random_forest</td>\n",
       "      <td>min_max</td>\n",
       "      <td>kpca</td>\n",
       "      <td>63.74999999999999</td>\n",
       "      <td>28.451563691838295</td>\n",
       "      <td>0.6347082361654143</td>\n",
       "    </tr>\n",
       "    <tr>\n",
       "      <th>7</th>\n",
       "      <td>random_forest</td>\n",
       "      <td>min_max</td>\n",
       "      <td>none</td>\n",
       "      <td>69.375</td>\n",
       "      <td>31.261123824052888</td>\n",
       "      <td>0.6948413271311152</td>\n",
       "    </tr>\n",
       "    <tr>\n",
       "      <th>5</th>\n",
       "      <td>random_forest</td>\n",
       "      <td>min_max</td>\n",
       "      <td>pca</td>\n",
       "      <td>66.875</td>\n",
       "      <td>31.56623442664633</td>\n",
       "      <td>0.6730847637991356</td>\n",
       "    </tr>\n",
       "    <tr>\n",
       "      <th>23</th>\n",
       "      <td>random_forest</td>\n",
       "      <td>none</td>\n",
       "      <td>kpca</td>\n",
       "      <td>56.25</td>\n",
       "      <td>23.64607170099161</td>\n",
       "      <td>0.5535550694786364</td>\n",
       "    </tr>\n",
       "    <tr>\n",
       "      <th>10</th>\n",
       "      <td>random_forest</td>\n",
       "      <td>none</td>\n",
       "      <td>none</td>\n",
       "      <td>68.125</td>\n",
       "      <td>30.778032036613272</td>\n",
       "      <td>0.6829620724334446</td>\n",
       "    </tr>\n",
       "    <tr>\n",
       "      <th>6</th>\n",
       "      <td>random_forest</td>\n",
       "      <td>none</td>\n",
       "      <td>pca</td>\n",
       "      <td>70.0</td>\n",
       "      <td>31.502669717772697</td>\n",
       "      <td>0.6992540530866909</td>\n",
       "    </tr>\n",
       "    <tr>\n",
       "      <th>11</th>\n",
       "      <td>random_forest</td>\n",
       "      <td>standard_scalar</td>\n",
       "      <td>kpca</td>\n",
       "      <td>63.125</td>\n",
       "      <td>29.48131197559115</td>\n",
       "      <td>0.6327511662980736</td>\n",
       "    </tr>\n",
       "    <tr>\n",
       "      <th>2</th>\n",
       "      <td>random_forest</td>\n",
       "      <td>standard_scalar</td>\n",
       "      <td>none</td>\n",
       "      <td>71.25</td>\n",
       "      <td>32.62140859394864</td>\n",
       "      <td>0.7153293377533343</td>\n",
       "    </tr>\n",
       "    <tr>\n",
       "      <th>8</th>\n",
       "      <td>random_forest</td>\n",
       "      <td>standard_scalar</td>\n",
       "      <td>pca</td>\n",
       "      <td>68.75</td>\n",
       "      <td>31.01957793033308</td>\n",
       "      <td>0.6873689193949205</td>\n",
       "    </tr>\n",
       "  </tbody>\n",
       "</table>\n",
       "</div>"
      ],
      "text/plain": [
       "       classifier       preprocess transform           accuracy  \\\n",
       "12  random_forest          min_max      kpca  63.74999999999999   \n",
       "7   random_forest          min_max      none             69.375   \n",
       "5   random_forest          min_max       pca             66.875   \n",
       "23  random_forest             none      kpca              56.25   \n",
       "10  random_forest             none      none             68.125   \n",
       "6   random_forest             none       pca               70.0   \n",
       "11  random_forest  standard_scalar      kpca             63.125   \n",
       "2   random_forest  standard_scalar      none              71.25   \n",
       "8   random_forest  standard_scalar       pca              68.75   \n",
       "\n",
       "     balanced_accuracy            f1_score  \n",
       "12  28.451563691838295  0.6347082361654143  \n",
       "7   31.261123824052888  0.6948413271311152  \n",
       "5    31.56623442664633  0.6730847637991356  \n",
       "23   23.64607170099161  0.5535550694786364  \n",
       "10  30.778032036613272  0.6829620724334446  \n",
       "6   31.502669717772697  0.6992540530866909  \n",
       "11   29.48131197559115  0.6327511662980736  \n",
       "2    32.62140859394864  0.7153293377533343  \n",
       "8    31.01957793033308  0.6873689193949205  "
      ]
     },
     "execution_count": 24,
     "metadata": {},
     "output_type": "execute_result"
    }
   ],
   "source": [
    "exp1_scores[exp1_scores.classifier == 'random_forest'].sort_values(by=['preprocess', 'transform'])"
   ]
  },
  {
   "cell_type": "markdown",
   "metadata": {},
   "source": [
    "### A.5 XGBoost Results"
   ]
  },
  {
   "cell_type": "code",
   "execution_count": 25,
   "metadata": {},
   "outputs": [
    {
     "data": {
      "text/html": [
       "<div>\n",
       "<style scoped>\n",
       "    .dataframe tbody tr th:only-of-type {\n",
       "        vertical-align: middle;\n",
       "    }\n",
       "\n",
       "    .dataframe tbody tr th {\n",
       "        vertical-align: top;\n",
       "    }\n",
       "\n",
       "    .dataframe thead th {\n",
       "        text-align: right;\n",
       "    }\n",
       "</style>\n",
       "<table border=\"1\" class=\"dataframe\">\n",
       "  <thead>\n",
       "    <tr style=\"text-align: right;\">\n",
       "      <th></th>\n",
       "      <th>classifier</th>\n",
       "      <th>preprocess</th>\n",
       "      <th>transform</th>\n",
       "      <th>accuracy</th>\n",
       "      <th>balanced_accuracy</th>\n",
       "      <th>f1_score</th>\n",
       "    </tr>\n",
       "  </thead>\n",
       "  <tbody>\n",
       "    <tr>\n",
       "      <th>14</th>\n",
       "      <td>xgboost</td>\n",
       "      <td>min_max</td>\n",
       "      <td>kpca</td>\n",
       "      <td>58.12500000000001</td>\n",
       "      <td>26.913297737096364</td>\n",
       "      <td>0.580259796567972</td>\n",
       "    </tr>\n",
       "    <tr>\n",
       "      <th>4</th>\n",
       "      <td>xgboost</td>\n",
       "      <td>min_max</td>\n",
       "      <td>none</td>\n",
       "      <td>67.5</td>\n",
       "      <td>31.807780320366135</td>\n",
       "      <td>0.6842437374082945</td>\n",
       "    </tr>\n",
       "    <tr>\n",
       "      <th>19</th>\n",
       "      <td>xgboost</td>\n",
       "      <td>min_max</td>\n",
       "      <td>pca</td>\n",
       "      <td>59.375</td>\n",
       "      <td>25.48944825832698</td>\n",
       "      <td>0.5880909702112235</td>\n",
       "    </tr>\n",
       "    <tr>\n",
       "      <th>24</th>\n",
       "      <td>xgboost</td>\n",
       "      <td>none</td>\n",
       "      <td>kpca</td>\n",
       "      <td>51.24999999999999</td>\n",
       "      <td>21.713704551233157</td>\n",
       "      <td>0.4974162403227075</td>\n",
       "    </tr>\n",
       "    <tr>\n",
       "      <th>3</th>\n",
       "      <td>xgboost</td>\n",
       "      <td>none</td>\n",
       "      <td>none</td>\n",
       "      <td>67.5</td>\n",
       "      <td>31.807780320366135</td>\n",
       "      <td>0.6842437374082945</td>\n",
       "    </tr>\n",
       "    <tr>\n",
       "      <th>9</th>\n",
       "      <td>xgboost</td>\n",
       "      <td>none</td>\n",
       "      <td>pca</td>\n",
       "      <td>66.875</td>\n",
       "      <td>30.930587337909994</td>\n",
       "      <td>0.6699546570942755</td>\n",
       "    </tr>\n",
       "    <tr>\n",
       "      <th>17</th>\n",
       "      <td>xgboost</td>\n",
       "      <td>standard_scalar</td>\n",
       "      <td>kpca</td>\n",
       "      <td>57.49999999999999</td>\n",
       "      <td>26.036104754640228</td>\n",
       "      <td>0.5731966360325992</td>\n",
       "    </tr>\n",
       "    <tr>\n",
       "      <th>1</th>\n",
       "      <td>xgboost</td>\n",
       "      <td>standard_scalar</td>\n",
       "      <td>none</td>\n",
       "      <td>68.125</td>\n",
       "      <td>32.68497330282227</td>\n",
       "      <td>0.6916818285773544</td>\n",
       "    </tr>\n",
       "    <tr>\n",
       "      <th>0</th>\n",
       "      <td>xgboost</td>\n",
       "      <td>standard_scalar</td>\n",
       "      <td>pca</td>\n",
       "      <td>71.25</td>\n",
       "      <td>34.52834986015764</td>\n",
       "      <td>0.715205385951849</td>\n",
       "    </tr>\n",
       "  </tbody>\n",
       "</table>\n",
       "</div>"
      ],
      "text/plain": [
       "   classifier       preprocess transform           accuracy  \\\n",
       "14    xgboost          min_max      kpca  58.12500000000001   \n",
       "4     xgboost          min_max      none               67.5   \n",
       "19    xgboost          min_max       pca             59.375   \n",
       "24    xgboost             none      kpca  51.24999999999999   \n",
       "3     xgboost             none      none               67.5   \n",
       "9     xgboost             none       pca             66.875   \n",
       "17    xgboost  standard_scalar      kpca  57.49999999999999   \n",
       "1     xgboost  standard_scalar      none             68.125   \n",
       "0     xgboost  standard_scalar       pca              71.25   \n",
       "\n",
       "     balanced_accuracy            f1_score  \n",
       "14  26.913297737096364   0.580259796567972  \n",
       "4   31.807780320366135  0.6842437374082945  \n",
       "19   25.48944825832698  0.5880909702112235  \n",
       "24  21.713704551233157  0.4974162403227075  \n",
       "3   31.807780320366135  0.6842437374082945  \n",
       "9   30.930587337909994  0.6699546570942755  \n",
       "17  26.036104754640228  0.5731966360325992  \n",
       "1    32.68497330282227  0.6916818285773544  \n",
       "0    34.52834986015764   0.715205385951849  "
      ]
     },
     "execution_count": 25,
     "metadata": {},
     "output_type": "execute_result"
    }
   ],
   "source": [
    "exp1_scores[exp1_scores.classifier == 'xgboost'].sort_values(by=['preprocess', 'transform'])"
   ]
  },
  {
   "cell_type": "markdown",
   "metadata": {},
   "source": [
    "### A.6 Adaboost Results"
   ]
  },
  {
   "cell_type": "code",
   "execution_count": 26,
   "metadata": {},
   "outputs": [],
   "source": [
    "# exp1_scores[exp1_scores.classifier == 'adaboost'].sort_values(by=['preprocess', 'transform'])"
   ]
  },
  {
   "cell_type": "markdown",
   "metadata": {},
   "source": [
    "### A.7 Gradboost Results"
   ]
  },
  {
   "cell_type": "code",
   "execution_count": 27,
   "metadata": {},
   "outputs": [],
   "source": [
    "# exp1_scores[exp1_scores.classifier == 'gradboost'].sort_values(by=['preprocess', 'transform'])"
   ]
  },
  {
   "cell_type": "markdown",
   "metadata": {},
   "source": [
    "### A.8 SVC Results"
   ]
  },
  {
   "cell_type": "code",
   "execution_count": 28,
   "metadata": {},
   "outputs": [
    {
     "data": {
      "text/html": [
       "<div>\n",
       "<style scoped>\n",
       "    .dataframe tbody tr th:only-of-type {\n",
       "        vertical-align: middle;\n",
       "    }\n",
       "\n",
       "    .dataframe tbody tr th {\n",
       "        vertical-align: top;\n",
       "    }\n",
       "\n",
       "    .dataframe thead th {\n",
       "        text-align: right;\n",
       "    }\n",
       "</style>\n",
       "<table border=\"1\" class=\"dataframe\">\n",
       "  <thead>\n",
       "    <tr style=\"text-align: right;\">\n",
       "      <th></th>\n",
       "      <th>classifier</th>\n",
       "      <th>preprocess</th>\n",
       "      <th>transform</th>\n",
       "      <th>accuracy</th>\n",
       "      <th>balanced_accuracy</th>\n",
       "      <th>f1_score</th>\n",
       "    </tr>\n",
       "  </thead>\n",
       "  <tbody>\n",
       "    <tr>\n",
       "      <th>31</th>\n",
       "      <td>svc</td>\n",
       "      <td>min_max</td>\n",
       "      <td>kpca</td>\n",
       "      <td>34.375</td>\n",
       "      <td>17.73455377574371</td>\n",
       "      <td>0.3933287559060581</td>\n",
       "    </tr>\n",
       "    <tr>\n",
       "      <th>26</th>\n",
       "      <td>svc</td>\n",
       "      <td>min_max</td>\n",
       "      <td>none</td>\n",
       "      <td>38.75</td>\n",
       "      <td>20.696669209255024</td>\n",
       "      <td>0.45451192182084776</td>\n",
       "    </tr>\n",
       "    <tr>\n",
       "      <th>25</th>\n",
       "      <td>svc</td>\n",
       "      <td>min_max</td>\n",
       "      <td>pca</td>\n",
       "      <td>41.25</td>\n",
       "      <td>21.662852784134245</td>\n",
       "      <td>0.47939120848609845</td>\n",
       "    </tr>\n",
       "    <tr>\n",
       "      <th>33</th>\n",
       "      <td>svc</td>\n",
       "      <td>none</td>\n",
       "      <td>kpca</td>\n",
       "      <td>30.625000000000004</td>\n",
       "      <td>14.378337147215866</td>\n",
       "      <td>0.26215272563862485</td>\n",
       "    </tr>\n",
       "    <tr>\n",
       "      <th>29</th>\n",
       "      <td>svc</td>\n",
       "      <td>none</td>\n",
       "      <td>none</td>\n",
       "      <td>38.75</td>\n",
       "      <td>19.425375031782355</td>\n",
       "      <td>0.4528127906976744</td>\n",
       "    </tr>\n",
       "    <tr>\n",
       "      <th>30</th>\n",
       "      <td>svc</td>\n",
       "      <td>none</td>\n",
       "      <td>pca</td>\n",
       "      <td>38.75</td>\n",
       "      <td>19.425375031782355</td>\n",
       "      <td>0.4528127906976744</td>\n",
       "    </tr>\n",
       "    <tr>\n",
       "      <th>34</th>\n",
       "      <td>svc</td>\n",
       "      <td>standard_scalar</td>\n",
       "      <td>kpca</td>\n",
       "      <td>27.500000000000004</td>\n",
       "      <td>13.806254767353165</td>\n",
       "      <td>0.3323785053162198</td>\n",
       "    </tr>\n",
       "    <tr>\n",
       "      <th>28</th>\n",
       "      <td>svc</td>\n",
       "      <td>standard_scalar</td>\n",
       "      <td>none</td>\n",
       "      <td>36.875</td>\n",
       "      <td>19.972031528095602</td>\n",
       "      <td>0.43317301105224704</td>\n",
       "    </tr>\n",
       "    <tr>\n",
       "      <th>27</th>\n",
       "      <td>svc</td>\n",
       "      <td>standard_scalar</td>\n",
       "      <td>pca</td>\n",
       "      <td>37.5</td>\n",
       "      <td>20.21357742181541</td>\n",
       "      <td>0.4433603970434327</td>\n",
       "    </tr>\n",
       "  </tbody>\n",
       "</table>\n",
       "</div>"
      ],
      "text/plain": [
       "   classifier       preprocess transform            accuracy  \\\n",
       "31        svc          min_max      kpca              34.375   \n",
       "26        svc          min_max      none               38.75   \n",
       "25        svc          min_max       pca               41.25   \n",
       "33        svc             none      kpca  30.625000000000004   \n",
       "29        svc             none      none               38.75   \n",
       "30        svc             none       pca               38.75   \n",
       "34        svc  standard_scalar      kpca  27.500000000000004   \n",
       "28        svc  standard_scalar      none              36.875   \n",
       "27        svc  standard_scalar       pca                37.5   \n",
       "\n",
       "     balanced_accuracy             f1_score  \n",
       "31   17.73455377574371   0.3933287559060581  \n",
       "26  20.696669209255024  0.45451192182084776  \n",
       "25  21.662852784134245  0.47939120848609845  \n",
       "33  14.378337147215866  0.26215272563862485  \n",
       "29  19.425375031782355   0.4528127906976744  \n",
       "30  19.425375031782355   0.4528127906976744  \n",
       "34  13.806254767353165   0.3323785053162198  \n",
       "28  19.972031528095602  0.43317301105224704  \n",
       "27   20.21357742181541   0.4433603970434327  "
      ]
     },
     "execution_count": 28,
     "metadata": {},
     "output_type": "execute_result"
    }
   ],
   "source": [
    "exp1_scores[exp1_scores.classifier == 'svc'].sort_values(by=['preprocess', 'transform'])"
   ]
  },
  {
   "cell_type": "markdown",
   "metadata": {},
   "source": [
    "## B. Experiment 2  Model Scores"
   ]
  },
  {
   "cell_type": "markdown",
   "metadata": {},
   "source": [
    "### B.1 Logistic Regression Results "
   ]
  },
  {
   "cell_type": "code",
   "execution_count": 12,
   "metadata": {},
   "outputs": [],
   "source": [
    "# exp2_scores[exp2_scores.classifier == 'logistic'].sort_values(by=['preprocess', 'transform'])"
   ]
  },
  {
   "cell_type": "markdown",
   "metadata": {},
   "source": [
    "### B.2 Naive Bayes Results "
   ]
  },
  {
   "cell_type": "code",
   "execution_count": 13,
   "metadata": {},
   "outputs": [],
   "source": [
    "# exp2_scores[exp2_scores.classifier == 'naive_bayes'].sort_values(by=['preprocess', 'transform'])"
   ]
  },
  {
   "cell_type": "markdown",
   "metadata": {},
   "source": [
    "### B.3 KNN Results"
   ]
  },
  {
   "cell_type": "code",
   "execution_count": 14,
   "metadata": {},
   "outputs": [],
   "source": [
    "# exp2_scores[exp2_scores.classifier == 'knn'].sort_values(by=['preprocess', 'transform'])"
   ]
  },
  {
   "cell_type": "markdown",
   "metadata": {},
   "source": [
    "### B.4 Random Forest Results"
   ]
  },
  {
   "cell_type": "code",
   "execution_count": 15,
   "metadata": {},
   "outputs": [],
   "source": [
    "# exp2_scores[exp2_scores.classifier == 'random_forest'].sort_values(by=['preprocess', 'transform'])"
   ]
  },
  {
   "cell_type": "markdown",
   "metadata": {},
   "source": [
    "### B.5 XGBoost Results"
   ]
  },
  {
   "cell_type": "code",
   "execution_count": 16,
   "metadata": {},
   "outputs": [],
   "source": [
    "# exp2_scores[exp2_scores.classifier == 'xgboost'].sort_values(by=['preprocess', 'transform'])"
   ]
  },
  {
   "cell_type": "markdown",
   "metadata": {},
   "source": [
    "### B.6 Adaboost Results"
   ]
  },
  {
   "cell_type": "code",
   "execution_count": 17,
   "metadata": {},
   "outputs": [],
   "source": [
    "# exp2_scores[exp2_scores.classifier == 'adaboost'].sort_values(by=['preprocess', 'transform'])"
   ]
  },
  {
   "cell_type": "markdown",
   "metadata": {},
   "source": [
    "### B.7 Gradboost Results"
   ]
  },
  {
   "cell_type": "code",
   "execution_count": 18,
   "metadata": {},
   "outputs": [],
   "source": [
    "# exp2_scores[exp2_scores.classifier == 'gradboost'].sort_values(by=['preprocess', 'transform'])"
   ]
  },
  {
   "cell_type": "markdown",
   "metadata": {},
   "source": [
    "### B.8 SVC Results"
   ]
  },
  {
   "cell_type": "code",
   "execution_count": 19,
   "metadata": {},
   "outputs": [],
   "source": [
    "# exp2_scores[exp2_scores.classifier == 'svc'].sort_values(by=['preprocess', 'transform'])"
   ]
  }
 ],
 "metadata": {
  "kernelspec": {
   "display_name": "Python 3",
   "language": "python",
   "name": "python3"
  },
  "language_info": {
   "codemirror_mode": {
    "name": "ipython",
    "version": 3
   },
   "file_extension": ".py",
   "mimetype": "text/x-python",
   "name": "python",
   "nbconvert_exporter": "python",
   "pygments_lexer": "ipython3",
   "version": "3.7.1"
  }
 },
 "nbformat": 4,
 "nbformat_minor": 2
}
